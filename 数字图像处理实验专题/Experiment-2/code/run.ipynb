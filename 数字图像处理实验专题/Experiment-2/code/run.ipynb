{
 "cells": [
  {
   "cell_type": "code",
   "execution_count": 1,
   "id": "0a27b8dd",
   "metadata": {},
   "outputs": [],
   "source": [
    "import numpy as np\n",
    "import os\n",
    "from utils import *"
   ]
  },
  {
   "cell_type": "code",
   "execution_count": 2,
   "id": "44050f27",
   "metadata": {},
   "outputs": [
    {
     "name": "stdout",
     "output_type": "stream",
     "text": [
      "已加载: 1.jpg, 尺寸: (3, 241, 321)\n",
      "已加载: 2.jpg, 尺寸: (3, 223, 296)\n",
      "已加载: 3.jpg, 尺寸: (3, 204, 275)\n",
      "已加载: 4.jpg, 尺寸: (3, 305, 305)\n",
      "已加载: 5.jpg, 尺寸: (3, 250, 286)\n"
     ]
    }
   ],
   "source": [
    "## load the data\n",
    "path = os.getcwd() + '\\..\\data\\\\'  \n",
    "images_np = images_np_load(path, plot=False)"
   ]
  },
  {
   "cell_type": "code",
   "execution_count": 5,
   "id": "42446136",
   "metadata": {},
   "outputs": [],
   "source": [
    "def similarity(x1, x2, alpha = 0.1):\n",
    "    return np.exp(-alpha * np.linalg.norm(x1 - x2) ** 2)\n",
    "\n",
    "\n",
    "def rec_to_log(x, xc):\n",
    "    return np.log(np.linalg.norm(x - xc)), np.arctan((x[1] - xc[1])/(x[0] - xc[0]))\n",
    "\n"
   ]
  },
  {
   "cell_type": "code",
   "execution_count": null,
   "id": "24b62f02",
   "metadata": {},
   "outputs": [
    {
     "data": {
      "text/plain": [
       "(241, 321)"
      ]
     },
     "execution_count": 7,
     "metadata": {},
     "output_type": "execute_result"
    }
   ],
   "source": [
    "img = images_np[0]\n",
    "batch_size = 50\n",
    "m, n = img.shape[1], img.shape[2]\n",
    "\n",
    "for i in range()"
   ]
  }
 ],
 "metadata": {
  "kernelspec": {
   "display_name": "pytorch",
   "language": "python",
   "name": "python3"
  },
  "language_info": {
   "codemirror_mode": {
    "name": "ipython",
    "version": 3
   },
   "file_extension": ".py",
   "mimetype": "text/x-python",
   "name": "python",
   "nbconvert_exporter": "python",
   "pygments_lexer": "ipython3",
   "version": "3.10.14"
  }
 },
 "nbformat": 4,
 "nbformat_minor": 5
}
