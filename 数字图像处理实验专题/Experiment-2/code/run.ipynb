{
 "cells": [
  {
   "cell_type": "code",
   "execution_count": null,
   "id": "0a27b8dd",
   "metadata": {},
   "outputs": [],
   "source": [
    "import numpy as np\n",
    "import torch\n",
    "import cv2\n",
    "import os\n",
    "from utils import *\n",
    "import numpy as np\n",
    "from scipy.spatial.distance import cdist\n",
    "import matplotlib.pyplot as plt\n",
    "import numpy as np\n",
    "import torch.nn.functional as F"
   ]
  },
  {
   "cell_type": "code",
   "execution_count": null,
   "id": "4623dd14",
   "metadata": {},
   "outputs": [],
   "source": [
    "## load the data\n",
    "path = os.getcwd() + '/../data/'  \n",
    "images_np = images_np_load(path, plot=False)\n",
    "#images_plot(images_np)"
   ]
  },
  {
   "cell_type": "code",
   "execution_count": null,
   "id": "fb6e5977",
   "metadata": {},
   "outputs": [],
   "source": [
    "def get_region(c, size, image):\n",
    "    if len(image.shape) == 3:\n",
    "        return image[c[0] - size // 2: c[0] + size // 2, c[1] - size// 2: c[1] + size // 2, :]\n",
    "    else:\n",
    "        return image[c[0] - size // 2: c[0] + size // 2, c[1] - size// 2: c[1] + size // 2]\n",
    "\n",
    "def simliarity(image, x1, x2, patchsize, alpha=0.1):\n",
    "    region1 = get_region(x1, patchsize, image)\n",
    "    region2 = get_region(x2, patchsize, image)\n",
    "    #print(x1, x2, region1.shape, region2.shape, image.shape)\n",
    "    sim = np.exp(-alpha * np.sum((region1 - region2) ** 2))\n",
    "    return sim\n",
    "\n",
    "def self_simliarity(image, regionsize=81, patchsize=5):\n",
    "    H, W = image.shape[0], image.shape[1]\n",
    "    region_r, patch_r = regionsize // 2, patchsize // 2\n",
    "\n",
    "    similiarity_map = [[0 for _ in range(W - regionsize + 1)] for _ in range(H - regionsize + 1)]\n",
    "    for i in range(H - regionsize + 1):\n",
    "        for j in range(W - regionsize + 1):\n",
    "            xc = [i + region_r, j + region_r]\n",
    "            sim = np.zeros((regionsize - patchsize + 1, regionsize - patchsize + 1)).astype(np.float32)\n",
    "            \n",
    "            for m in range(regionsize - patchsize + 1):\n",
    "                for n in range(regionsize - patchsize + 1):\n",
    "                    y = [i + m + patch_r, j + n + patch_r]\n",
    "                    sim[m][n] = simliarity(image, xc, y, patchsize)\n",
    "            similiarity_map[i][j] = sim\n",
    "    return np.array(similiarity_map)\n"
   ]
  },
  {
   "cell_type": "code",
   "execution_count": null,
   "id": "f996e6d0",
   "metadata": {},
   "outputs": [],
   "source": [
    "images_self_sim = [0] * 5\n",
    "\n",
    "images_self_sim[0] = self_simliarity(np.transpose(images_np[0], [1, 2, 0]))"
   ]
  },
  {
   "cell_type": "code",
   "execution_count": null,
   "id": "927b6b86",
   "metadata": {},
   "outputs": [],
   "source": [
    "def log_polar_offsets(regionsize, num_r=4, num_theta=20):\n",
    "    \"\"\"生成 log-polar 相对坐标偏移表\"\"\"\n",
    "    r = np.logspace(0, np.log10(regionsize / 2), num_r) - 1\n",
    "    #r = np.linsapce(0, r_max, num_r)\n",
    "    theta = np.linspace(0, 2*np.pi, num_theta, endpoint=False)\n",
    "\n",
    "    rr, tt = np.meshgrid(r, theta, indexing='ij')\n",
    "    dy = (rr * np.sin(tt)).astype(int)\n",
    "    dx = (rr * np.cos(tt)).astype(int)\n",
    "    offsets = np.stack([dy, dx], axis=-1)  # shape (num_r,num_theta,2)\n",
    "\n",
    "    return offsets\n",
    "\n",
    "offsets = log_polar_offsets(41)\n",
    "print(offsets.shape)"
   ]
  },
  {
   "cell_type": "code",
   "execution_count": null,
   "id": "b483d4f0",
   "metadata": {},
   "outputs": [],
   "source": [
    "self_sim_polarlog = [0] * 5"
   ]
  },
  {
   "cell_type": "code",
   "execution_count": null,
   "id": "a2252ebf",
   "metadata": {},
   "outputs": [],
   "source": [
    "def visualize_logpolar_feature(sim_feature, r):\n",
    "    _ , num_theta = sim_feature.shape \n",
    "    theta = np.linspace(0, 2*np.pi, num_theta, endpoint=False)\n",
    "    Theta, R = np.meshgrid(theta, r, indexing='xy')\n",
    "    # 创建极坐标图\n",
    "    fig, ax = plt.subplots(subplot_kw={'projection': 'polar'})\n",
    "    # 绘制扇形图\n",
    "    c = ax.pcolormesh(Theta, R, sim_feature, shading='auto', cmap='gray')\n",
    "    ax.set_theta_zero_location(\"E\")  \n",
    "    ax.set_theta_direction(1)        \n",
    "    fig.colorbar(c, ax=ax, label='Similarity')\n",
    "    plt.savefig('../result/sim_logpolar.png')\n",
    "    plt.show()\n",
    "\n",
    "def visualize_similarity_map(similarity_map):\n",
    "    plt.imshow(similarity_map, cmap='gray')  \n",
    "    plt.colorbar()  \n",
    "    plt.title(\"Similarity Map\") \n",
    "    plt.axis('off')  \n",
    "    plt.savefig('../result/sim_ori.png')\n",
    "    plt.show()\n",
    "\n",
    "\n",
    "def log_polar_conversion(similarity_map, num_r=4, num_theta=20):\n",
    "    R = similarity_map.shape[0] // 2\n",
    "    r = np.linspace(1, R, num_r + 1)\n",
    "    theta = np.linspace(-2*np.pi / (num_theta * 2), 2*np.pi - 2*np.pi / (num_theta * 2), num_theta + 1)\n",
    "    \n",
    "    return r[1:], theta[1:]\n",
    "\n",
    "def update_log_polar_map(similarity_map, r, theta, num_r=4, num_theta=20):\n",
    "    \n",
    "    H, W = similarity_map.shape\n",
    "    log_polar_map = np.zeros((num_r, num_theta)) \n",
    "    center_y, center_x = H // 2, W // 2  \n",
    "    \n",
    "    for i in range(H):\n",
    "        for j in range(W):\n",
    "            \n",
    "            dy, dx = center_y - i, j - center_x\n",
    "            r_val, t_val = np.sqrt(dy**2 + dx**2), (np.arctan2(dy, dx) + 2*np.pi) % (2*np.pi)\n",
    "            if t_val > r[-1]:\n",
    "                t_val = t_val - 2*np.pi\n",
    "    \n",
    "            r_idx, t_idx = np.digitize(r_val, r), np.digitize(t_val, theta) % num_theta  \n",
    "            if r_idx < num_r:\n",
    "                log_polar_map[r_idx, t_idx] = max(log_polar_map[r_idx, t_idx], similarity_map[i, j])\n",
    "    \n",
    "    return log_polar_map\n",
    "\n",
    "\n",
    "i = images_self_sim[0][100][100]\n",
    "r, theta = log_polar_conversion(i)\n",
    "log_polar_map = update_log_polar_map(i, r, theta)\n",
    "\n",
    "visualize_logpolar_feature(log_polar_map, r)\n",
    "visualize_similarity_map(i)"
   ]
  }
 ],
 "metadata": {
  "kernelspec": {
   "display_name": "pytorch",
   "language": "python",
   "name": "python3"
  },
  "language_info": {
   "codemirror_mode": {
    "name": "ipython",
    "version": 3
   },
   "file_extension": ".py",
   "mimetype": "text/x-python",
   "name": "python",
   "nbconvert_exporter": "python",
   "pygments_lexer": "ipython3",
   "version": "3.10.18"
  }
 },
 "nbformat": 4,
 "nbformat_minor": 5
}
