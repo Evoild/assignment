{
 "cells": [
  {
   "cell_type": "code",
   "execution_count": null,
   "id": "0a27b8dd",
   "metadata": {},
   "outputs": [
    {
     "name": "stdout",
     "output_type": "stream",
     "text": [
      "已加载: 5.jpg, 尺寸: (3, 250, 286)\n",
      "已加载: 3.jpg, 尺寸: (3, 204, 275)\n",
      "已加载: 1.jpg, 尺寸: (3, 241, 321)\n",
      "已加载: 4.jpg, 尺寸: (3, 305, 305)\n",
      "已加载: 2.jpg, 尺寸: (3, 223, 296)\n"
     ]
    }
   ],
   "source": [
    "import numpy as np\n",
    "import cv2\n",
    "import os\n",
    "from utils import *\n",
    "from math import sqrt, atan2, exp\n",
    "import numpy as np\n",
    "from scipy.spatial.distance import cdist\n",
    "import matplotlib.pyplot as plt\n",
    "## load the data\n",
    "path = os.getcwd() + '/../data/'  \n",
    "images_np = images_np_load(path, plot=False)"
   ]
  },
  {
   "cell_type": "code",
   "execution_count": 13,
   "id": "6c727737",
   "metadata": {},
   "outputs": [
    {
     "ename": "ValueError",
     "evalue": "operands could not be broadcast together with shapes (5,5,3) (0,0,3) ",
     "output_type": "error",
     "traceback": [
      "\u001b[0;31m---------------------------------------------------------------------------\u001b[0m",
      "\u001b[0;31mValueError\u001b[0m                                Traceback (most recent call last)",
      "Cell \u001b[0;32mIn[13], line 44\u001b[0m\n\u001b[1;32m     41\u001b[0m image \u001b[38;5;241m=\u001b[39m np\u001b[38;5;241m.\u001b[39mrandom\u001b[38;5;241m.\u001b[39mrand(\u001b[38;5;241m256\u001b[39m, \u001b[38;5;241m256\u001b[39m, \u001b[38;5;241m3\u001b[39m)  \u001b[38;5;66;03m# 假设的图像：256x256尺寸，3通道（RGB）\u001b[39;00m\n\u001b[1;32m     43\u001b[0m \u001b[38;5;66;03m# 计算自相似性描述符\u001b[39;00m\n\u001b[0;32m---> 44\u001b[0m descriptors \u001b[38;5;241m=\u001b[39m \u001b[43mcompute_self_similarity_descriptor\u001b[49m\u001b[43m(\u001b[49m\u001b[43mimage\u001b[49m\u001b[43m,\u001b[49m\u001b[43m \u001b[49m\u001b[43mpatch_size\u001b[49m\u001b[38;5;241;43m=\u001b[39;49m\u001b[38;5;241;43m5\u001b[39;49m\u001b[43m,\u001b[49m\u001b[43m \u001b[49m\u001b[43msearch_radius\u001b[49m\u001b[38;5;241;43m=\u001b[39;49m\u001b[38;5;241;43m30\u001b[39;49m\u001b[43m)\u001b[49m\n\u001b[1;32m     46\u001b[0m \u001b[38;5;66;03m# 可视化结果\u001b[39;00m\n\u001b[1;32m     47\u001b[0m plt\u001b[38;5;241m.\u001b[39mimshow(descriptors, cmap\u001b[38;5;241m=\u001b[39m\u001b[38;5;124m'\u001b[39m\u001b[38;5;124mgray\u001b[39m\u001b[38;5;124m'\u001b[39m)  \u001b[38;5;66;03m# 可视化自相似性描述符\u001b[39;00m\n",
      "Cell \u001b[0;32mIn[13], line 30\u001b[0m, in \u001b[0;36mcompute_self_similarity_descriptor\u001b[0;34m(image, patch_size, search_radius)\u001b[0m\n\u001b[1;32m     27\u001b[0m             neighbor_patch \u001b[38;5;241m=\u001b[39m image[y \u001b[38;5;241m+\u001b[39m dy \u001b[38;5;241m-\u001b[39m patch_size\u001b[38;5;241m/\u001b[39m\u001b[38;5;241m/\u001b[39m\u001b[38;5;241m2\u001b[39m : y \u001b[38;5;241m+\u001b[39m dy \u001b[38;5;241m+\u001b[39m patch_size\u001b[38;5;241m/\u001b[39m\u001b[38;5;241m/\u001b[39m\u001b[38;5;241m2\u001b[39m \u001b[38;5;241m+\u001b[39m \u001b[38;5;241m1\u001b[39m,\n\u001b[1;32m     28\u001b[0m                                    x \u001b[38;5;241m+\u001b[39m dx \u001b[38;5;241m-\u001b[39m patch_size\u001b[38;5;241m/\u001b[39m\u001b[38;5;241m/\u001b[39m\u001b[38;5;241m2\u001b[39m : x \u001b[38;5;241m+\u001b[39m dx \u001b[38;5;241m+\u001b[39m patch_size\u001b[38;5;241m/\u001b[39m\u001b[38;5;241m/\u001b[39m\u001b[38;5;241m2\u001b[39m \u001b[38;5;241m+\u001b[39m \u001b[38;5;241m1\u001b[39m]\n\u001b[1;32m     29\u001b[0m             \u001b[38;5;66;03m# 计算相关性，使用归一化的相关性\u001b[39;00m\n\u001b[0;32m---> 30\u001b[0m             correlation_surface[y \u001b[38;5;241m+\u001b[39m dy, x \u001b[38;5;241m+\u001b[39m dx] \u001b[38;5;241m=\u001b[39m np\u001b[38;5;241m.\u001b[39msum(\u001b[43mpatch\u001b[49m\u001b[43m \u001b[49m\u001b[38;5;241;43m*\u001b[39;49m\u001b[43m \u001b[49m\u001b[43mneighbor_patch\u001b[49m) \u001b[38;5;241m/\u001b[39m (np\u001b[38;5;241m.\u001b[39mlinalg\u001b[38;5;241m.\u001b[39mnorm(patch) \u001b[38;5;241m*\u001b[39m np\u001b[38;5;241m.\u001b[39mlinalg\u001b[38;5;241m.\u001b[39mnorm(neighbor_patch))\n\u001b[1;32m     32\u001b[0m \u001b[38;5;66;03m# 将相关性图转换为log-polar表示\u001b[39;00m\n\u001b[1;32m     33\u001b[0m log_polar \u001b[38;5;241m=\u001b[39m cv2\u001b[38;5;241m.\u001b[39mlogPolar(correlation_surface, (x, y), \u001b[38;5;241m40\u001b[39m, flags\u001b[38;5;241m=\u001b[39mcv2\u001b[38;5;241m.\u001b[39mINTER_LINEAR)\n",
      "\u001b[0;31mValueError\u001b[0m: operands could not be broadcast together with shapes (5,5,3) (0,0,3) "
     ]
    }
   ],
   "source": [
    "import numpy as np\n",
    "import cv2\n",
    "import matplotlib.pyplot as plt\n",
    "\n",
    "def compute_self_similarity_descriptor(image, patch_size=5, search_radius=30):\n",
    "    \"\"\"\n",
    "    计算图像的局部自相似性描述符，包括log-polar坐标转换。\n",
    "    image: 输入图像，形状为 (H, W, C)，假设是RGB图像\n",
    "    patch_size: 每个局部区域的大小\n",
    "    search_radius: 搜索范围，用来搜索与目标patch相似的区域\n",
    "    \"\"\"\n",
    "    H, W, C = image.shape  # 确保图像是(H, W, C)格式\n",
    "    descriptors = np.zeros((H, W))  # 存储每个像素点的描述符（这里只存储一个log-polar值）\n",
    "\n",
    "    # 遍历每个像素，计算自相似描述符\n",
    "    for y in range(patch_size//2, H - patch_size//2):\n",
    "        for x in range(patch_size//2, W - patch_size//2):\n",
    "            # 提取以(x, y)为中心的patch\n",
    "            patch = image[y - patch_size//2 : y + patch_size//2 + 1, x - patch_size//2 : x + patch_size//2 + 1]\n",
    "\n",
    "            # 计算相似度\n",
    "            correlation_surface = np.zeros((H, W))\n",
    "            for dy in range(-search_radius, search_radius + 1):\n",
    "                for dx in range(-search_radius, search_radius + 1):\n",
    "                    if 0 <= y + dy < H and 0 <= x + dx < W:\n",
    "                        # 提取与目标点的相关区域并计算相似度\n",
    "                        neighbor_patch = image[y + dy - patch_size//2 : y + dy + patch_size//2 + 1,\n",
    "                                               x + dx - patch_size//2 : x + dx + patch_size//2 + 1]\n",
    "                        # 计算相关性，使用归一化的相关性\n",
    "                        correlation_surface[y + dy, x + dx] = np.sum(patch * neighbor_patch) / (np.linalg.norm(patch) * np.linalg.norm(neighbor_patch))\n",
    "\n",
    "            # 将相关性图转换为log-polar表示\n",
    "            log_polar = cv2.logPolar(correlation_surface, (x, y), 40, flags=cv2.INTER_LINEAR)\n",
    "\n",
    "            # 选择log-polar变换中的一个值（例如：选择中心位置的值）\n",
    "            descriptors[y, x] = log_polar[patch_size//2, patch_size//2]\n",
    "\n",
    "    return descriptors\n",
    "\n",
    "# 示例图像：加载一张图像（假设图像已经是HWC格式，通常需要用OpenCV等库加载图像）\n",
    "image = np.random.rand(256, 256, 3)  # 假设的图像：256x256尺寸，3通道（RGB）\n",
    "\n",
    "# 计算自相似性描述符\n",
    "descriptors = compute_self_similarity_descriptor(image, patch_size=5, search_radius=30)\n",
    "\n",
    "# 可视化结果\n",
    "plt.imshow(descriptors, cmap='gray')  # 可视化自相似性描述符\n",
    "plt.title(\"Self-Similarity Descriptors\")\n",
    "plt.colorbar()\n",
    "plt.show()\n"
   ]
  },
  {
   "cell_type": "code",
   "execution_count": null,
   "id": "92f27ad0",
   "metadata": {},
   "outputs": [],
   "source": [
    "\n",
    "# 计算自相似性描述符\n",
    "descriptors = compute_self_similarity_descriptor(image, patch_size=5, search_radius=30)\n"
   ]
  },
  {
   "cell_type": "code",
   "execution_count": 6,
   "id": "ffcf5bc4",
   "metadata": {},
   "outputs": [
    {
     "name": "stdout",
     "output_type": "stream",
     "text": [
      "(286, 3, 45)\n"
     ]
    },
    {
     "data": {
      "image/png": "[encoded data removed]",
      "text/plain": [
       "<Figure size 640x480 with 2 Axes>"
      ]
     },
     "metadata": {},
     "output_type": "display_data"
    }
   ],
   "source": [
    "print(descriptors.shape)\n",
    "# 可视化结果\n",
    "plt.imshow(descriptors.mean(axis=2), cmap='gray')  # 取所有描述符的平均值进行可视化\n",
    "plt.title(\"Self-Similarity Descriptors (Mean)\")\n",
    "plt.colorbar()\n",
    "plt.show()\n"
   ]
  }
 ],
 "metadata": {
  "kernelspec": {
   "display_name": "pytorch",
   "language": "python",
   "name": "python3"
  },
  "language_info": {
   "codemirror_mode": {
    "name": "ipython",
    "version": 3
   },
   "file_extension": ".py",
   "mimetype": "text/x-python",
   "name": "python",
   "nbconvert_exporter": "python",
   "pygments_lexer": "ipython3",
   "version": "3.10.18"
  }
 },
 "nbformat": 4,
 "nbformat_minor": 5
}
