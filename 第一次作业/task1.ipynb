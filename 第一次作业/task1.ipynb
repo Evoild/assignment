{
 "cells": [
  {
   "cell_type": "code",
   "execution_count": null,
   "id": "c2b2b6d9",
   "metadata": {},
   "outputs": [
    {
     "data": {
      "text/plain": [
       "'\\nprint(\"序列\", \"X1\", \"X2\", \"类别\")\\ncount = 0\\nfor x, l in zip(xdim, ldim):\\n    count += 1\\n    print(\"%d %3.1f %3.1f %d\" % (count, x[0], x[1], l))\\n    if l > 0:\\n        marker = \\'o\\'\\n        color = \\'blue\\'\\n    else:\\n        marker = \\'+\\'\\n        color = \\'red\\'\\n    plt.scatter(x[0], x[1], marker=marker, c=color, s=100)\\n    plt.text(x[0] + 0.05, x[1], \\'(%3.1f,%3.1f)\\' % (x[0], x[1]))\\n\\nplt.axis([-0.8, 0.8, -0.25, 1])\\nplt.xlabel(\"X1\")\\nplt.ylabel(\"X2\")\\nplt.grid(True)\\nplt.tight_layout()\\nplt.show()\\n'"
      ]
     },
     "execution_count": 12,
     "metadata": {},
     "output_type": "execute_result"
    }
   ],
   "source": [
    "import sys\n",
    "import os\n",
    "import math\n",
    "import time\n",
    "import matplotlib.pyplot as plt\n",
    "import numpy as np\n",
    "\n",
    "xdim = [(-0.1, -0.2), (0.5, 0.5), (-0.5, 0.2), (-0.25, 0.5), (0.2, 0.1), (0, 0.8)]\n",
    "ldim = [-1, 1, -1, -1, 1, 1]\n"
   ]
  },
  {
   "cell_type": "code",
   "execution_count": 21,
   "id": "000e93b8",
   "metadata": {},
   "outputs": [],
   "source": [
    "class Hebbian():\n",
    "    def __init__(self):\n",
    "        self.w = [0, 0, 0]  # w1, w2, b\n",
    "        self.lr = 0.5\n",
    "    \n",
    "    def forward(self, input: list[int]):\n",
    "        x = np.array([input[0], input[1], 1])\n",
    "\n",
    "        output = np.tanh(sum(wi * xi for wi, xi in zip(self.w, x)))\n",
    "        \n",
    "        w_d = self.lr * output * x\n",
    "        self.w += w_d\n",
    "\n",
    "        return self.w"
   ]
  },
  {
   "cell_type": "code",
   "execution_count": null,
   "id": "9811785b",
   "metadata": {},
   "outputs": [],
   "source": [
    "class Percetron():\n",
    "    def __init__(self):\n",
    "        self.w = np.array([0, 0, 0])  # w1, w2, b\n",
    "        self.lr = 0.5\n",
    "    \n",
    "    def forward(self, input: list[int]):\n",
    "        x, y = np.array([input[0], input[1], 1]), input[2]\n",
    "         \n",
    "        output = sum(wi * xi for wi, xi in zip(self.w, x))\n",
    "        output = y - (1 if output >= 0 else -1)\n",
    "\n",
    "        w_d = self.lr * output * x       \n",
    "        self.w += w_d\n",
    "\n",
    "        return self.w"
   ]
  },
  {
   "cell_type": "code",
   "execution_count": 30,
   "id": "ae5e7b38",
   "metadata": {},
   "outputs": [],
   "source": [
    "class Delta():\n",
    "    def __init__(self):\n",
    "        self.w = [0, 0, 0]  # w1, w2, b\n",
    "        self.lr = 0.5\n",
    "    \n",
    "    def forward(self, input: list[int]):\n",
    "        x, y = np.array([input[0], input[1], 1]), input[2]\n",
    "         \n",
    "        output = np.tanh(sum(wi * xi for wi, xi in zip(self.w, x)))\n",
    "        output = (y - output) * ((1 / np.cosh(output)) ** 2)\n",
    "        w_d = self.lr * output * x       \n",
    "        self.w += w_d\n",
    "\n",
    "        return self.w"
   ]
  },
  {
   "cell_type": "code",
   "execution_count": null,
   "id": "f717879d",
   "metadata": {},
   "outputs": [],
   "source": [
    "class Widrawhoff():\n",
    "    def __init__(self):\n",
    "        self.w = [0, 0, 0]  # w1, w2, b\n",
    "        self.lr = 0.5\n",
    "    \n",
    "    def forward(self, input: list[int]):\n",
    "        x, y = np.array([input[0], input[1], 1]), input[2]\n",
    "         \n",
    "        output = sum(wi * xi for wi, xi in zip(self.w, x))\n",
    "        output = y - output\n",
    "        w_d = self.lr * output * x       \n",
    "        self.w += w_d\n",
    "\n",
    "        return self.w"
   ]
  },
  {
   "cell_type": "code",
   "execution_count": 40,
   "id": "3f8b2150",
   "metadata": {},
   "outputs": [],
   "source": [
    "class Correlation():\n",
    "    def __init__(self):\n",
    "        self.w = [0, 0, 0]  # w1, w2, b\n",
    "        self.lr = 0.5\n",
    "    \n",
    "    def forward(self, input: list[int]):\n",
    "        x, y = np.array([input[0], input[1], 1]), input[2]\n",
    "         \n",
    "        w_d = self.lr * y * x       \n",
    "        self.w += w_d\n",
    "\n",
    "        return self.w"
   ]
  },
  {
   "cell_type": "code",
   "execution_count": 41,
   "id": "009de93f",
   "metadata": {},
   "outputs": [
    {
     "name": "stdout",
     "output_type": "stream",
     "text": [
      "[array([1.55, 0.9 , 0.  ])]\n"
     ]
    }
   ],
   "source": [
    "net1 = Correlation()\n",
    "trained_result = []\n",
    "w = []\n",
    "for epoch in range(2):\n",
    "    for x, y in zip(xdim, ldim):\n",
    "        input = np.array([x[0], x[1], y])\n",
    "        w = net1.forward(input)\n",
    "\n",
    "trained_result.append(w)\n",
    "\n",
    "print(trained_result)"
   ]
  }
 ],
 "metadata": {
  "kernelspec": {
   "display_name": "pytorch",
   "language": "python",
   "name": "python3"
  },
  "language_info": {
   "codemirror_mode": {
    "name": "ipython",
    "version": 3
   },
   "file_extension": ".py",
   "mimetype": "text/x-python",
   "name": "python",
   "nbconvert_exporter": "python",
   "pygments_lexer": "ipython3",
   "version": "3.10.14"
  }
 },
 "nbformat": 4,
 "nbformat_minor": 5
}
