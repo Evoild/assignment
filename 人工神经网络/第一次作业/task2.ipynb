{
 "cells": [
  {
   "cell_type": "code",
   "execution_count": 143,
   "id": "c2b2b6d9",
   "metadata": {},
   "outputs": [],
   "source": [
    "import sys\n",
    "import os\n",
    "import math\n",
    "import time\n",
    "import matplotlib.pyplot as plt\n",
    "import numpy as np\n",
    "\n",
    "\n",
    "\n",
    "coordinate = np.array([[x[0], x[1], 1] for x in [(-0.1, -0.2), (0.5, 0.5), (-0.5, 0.2), (-0.25, 0.5), (0.2, 0.1), (0, 0.8)]])\n",
    "coordinate_label = np.array([-1, 1, -1, -1, 1, 1])\n",
    "lr1, lr2 = 0.5, 1.0\n",
    "max_epoch = 10"
   ]
  },
  {
   "cell_type": "code",
   "execution_count": 144,
   "id": "26eef66f",
   "metadata": {},
   "outputs": [],
   "source": [
    "def sgn(x):\n",
    "    return 1 if x > 0 else -1\n",
    "\n",
    "\n",
    "class Linear():\n",
    "    def __init__(self, w, lr=0.5):\n",
    "        self.w = w\n",
    "        self.lr = lr\n",
    "\n",
    "    def forward(self, x_data):\n",
    "\n",
    "        return np.dot(x_data, self.w)\n",
    "   \n",
    "    \n",
    "class Percetron(Linear):\n",
    "    def __init__(self, w, lr=0.5):\n",
    "        super().__init__(w, lr)\n",
    "    \n",
    "    def forward(self, x_data):\n",
    "\n",
    "        return super().forward(x_data)\n",
    "    \n",
    "    def train(self, x_data, y_data):\n",
    "        for x, label in zip(x_data, y_data):\n",
    "            if not sgn(self.forward(x)) == label:\n",
    "                self.w += self.lr * label * x\n"
   ]
  },
  {
   "cell_type": "code",
   "execution_count": 145,
   "id": "b82890de",
   "metadata": {},
   "outputs": [
    {
     "name": "stdout",
     "output_type": "stream",
     "text": [
      "epoch: 1, accuracy: 0.5\n",
      "epoch: 2, accuracy: 1.0\n",
      "epoch: 3, accuracy: 1.0\n",
      "epoch: 4, accuracy: 1.0\n",
      "epoch: 5, accuracy: 1.0\n",
      "epoch: 6, accuracy: 1.0\n",
      "epoch: 7, accuracy: 1.0\n",
      "epoch: 8, accuracy: 1.0\n",
      "epoch: 9, accuracy: 1.0\n",
      "epoch: 10, accuracy: 1.0\n"
     ]
    }
   ],
   "source": [
    "# Train\n",
    "model = Percetron(w=np.random.rand(3))\n",
    "\n",
    "for i in range(max_epoch):\n",
    "    output = [sgn(x) for x in model.forward(coordinate)]   \n",
    "    model.train(x_data=coordinate, y_data=coordinate_label)  \n",
    "    pos = np.sum(coordinate_label == output)\n",
    "    print(f\"epoch: {i + 1}, accuracy: {pos / len(output)}\")"
   ]
  },
  {
   "cell_type": "code",
   "execution_count": 146,
   "id": "23efc288",
   "metadata": {},
   "outputs": [],
   "source": [
    "from data import alphabet_code_data as datas\n",
    "x_dim = 64\n",
    "y_dim = 7\n",
    "\n",
    "input_code = np.array([data[0] + [1] for data in datas])\n",
    "input_label = np.array([data[1] for data in datas])\n",
    "input_label = np.where(input_label == 0, -1, input_label)"
   ]
  },
  {
   "cell_type": "code",
   "execution_count": 147,
   "id": "a36e3ac9",
   "metadata": {},
   "outputs": [],
   "source": [
    "class Model():\n",
    "    def __init__(self, x_dim, y_dim, lr=0.5):\n",
    "        self.x_dim = x_dim\n",
    "        self.y_dim = y_dim\n",
    "        self.lr = lr\n",
    "        self.net = [Percetron(w=np.random.rand(x_dim) , lr=lr) for _ in range(y_dim)]\n",
    "\n",
    "    def forward(self, input):\n",
    "\n",
    "        return np.array([self.net[i].forward(input) for i in range(self.y_dim)])\n",
    "    \n",
    "    def train(self, x_data, y_data):\n",
    "        for i in range(self.y_dim):\n",
    "            tmp = y_data[:,i]\n",
    "            self.net[i].train(x_data, tmp)\n",
    "            \n",
    "            \n"
   ]
  },
  {
   "cell_type": "code",
   "execution_count": 148,
   "id": "0244d5aa",
   "metadata": {},
   "outputs": [
    {
     "name": "stdout",
     "output_type": "stream",
     "text": [
      "epoch: 1, accuracy: 0.3333333333333333\n",
      "epoch: 2, accuracy: 0.5714285714285714\n",
      "epoch: 3, accuracy: 1.0\n",
      "epoch: 4, accuracy: 1.0\n",
      "epoch: 5, accuracy: 1.0\n",
      "epoch: 6, accuracy: 1.0\n",
      "epoch: 7, accuracy: 1.0\n",
      "epoch: 8, accuracy: 1.0\n",
      "epoch: 9, accuracy: 1.0\n",
      "epoch: 10, accuracy: 1.0\n"
     ]
    }
   ],
   "source": [
    "model = Model(x_dim=64, y_dim=7)\n",
    "\n",
    "for i in range(10):\n",
    "    model.train(x_data=input_code, y_data=input_label) \n",
    "\n",
    "    output = model.forward(input_code).T\n",
    "    for x in range(len(output)):\n",
    "        for y in range(y_dim):\n",
    "            output[x][y] = sgn(output[x][y])\n",
    "\n",
    "    equal_rows = np.all(input_label == output, axis=1)\n",
    "    equal_count = np.sum(equal_rows)\n",
    "    print(f\"epoch: {i + 1}, accuracy: {equal_count / len(output)}\")\n",
    "        "
   ]
  }
 ],
 "metadata": {
  "kernelspec": {
   "display_name": "pytorch",
   "language": "python",
   "name": "python3"
  },
  "language_info": {
   "codemirror_mode": {
    "name": "ipython",
    "version": 3
   },
   "file_extension": ".py",
   "mimetype": "text/x-python",
   "name": "python",
   "nbconvert_exporter": "python",
   "pygments_lexer": "ipython3",
   "version": "3.10.14"
  }
 },
 "nbformat": 4,
 "nbformat_minor": 5
}
