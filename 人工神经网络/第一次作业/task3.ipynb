{
 "cells": [
  {
   "cell_type": "code",
   "execution_count": null,
   "id": "f1fdfc61",
   "metadata": {},
   "outputs": [],
   "source": [
    "import sys\n",
    "import os\n",
    "import math\n",
    "import time\n",
    "import matplotlib.pyplot as plt\n",
    "import numpy as np\n",
    "\n",
    "\n",
    "\n",
    "coordinate = np.array([[x[0], x[1], 1] for x in [(-0.1, -0.2), (0.5, 0.5), (-0.5, 0.2), (-0.25, 0.5), (0.2, 0.1), (0, 0.8)]])\n",
    "coordinate_label = np.array([-1, 1, -1, -1, 1, 1])\n",
    "lr1, lr2 = 0.5, 1.0\n",
    "max_epoch = 10"
   ]
  },
  {
   "cell_type": "code",
   "execution_count": null,
   "id": "7487b3ec",
   "metadata": {},
   "outputs": [],
   "source": []
  }
 ],
 "metadata": {
  "kernelspec": {
   "display_name": "pytorch",
   "language": "python",
   "name": "python3"
  },
  "language_info": {
   "codemirror_mode": {
    "name": "ipython",
    "version": 3
   },
   "file_extension": ".py",
   "mimetype": "text/x-python",
   "name": "python",
   "nbconvert_exporter": "python",
   "pygments_lexer": "ipython3",
   "version": "3.10.14"
  }
 },
 "nbformat": 4,
 "nbformat_minor": 5
}
